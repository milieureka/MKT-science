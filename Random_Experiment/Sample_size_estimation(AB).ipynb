{
  "nbformat": 4,
  "nbformat_minor": 0,
  "metadata": {
    "colab": {
      "provenance": [],
      "toc_visible": true,
      "authorship_tag": "ABX9TyMfrQ/mVTbZmc9X1UXJMJPm",
      "include_colab_link": true
    },
    "kernelspec": {
      "name": "python3",
      "display_name": "Python 3"
    },
    "language_info": {
      "name": "python"
    }
  },
  "cells": [
    {
      "cell_type": "markdown",
      "metadata": {
        "id": "view-in-github",
        "colab_type": "text"
      },
      "source": [
        "<a href=\"https://colab.research.google.com/github/milieureka/MKT-science/blob/main/Random_Experiment/Sample_size_estimation(AB).ipynb\" target=\"_parent\"><img src=\"https://colab.research.google.com/assets/colab-badge.svg\" alt=\"Open In Colab\"/></a>"
      ]
    },
    {
      "cell_type": "code",
      "execution_count": 1,
      "metadata": {
        "id": "irpHClHJJXPu"
      },
      "outputs": [],
      "source": [
        "import numpy as np\n",
        "import pandas as pd\n",
        "import statsmodels.formula.api as smf\n",
        "import math"
      ]
    },
    {
      "cell_type": "markdown",
      "source": [
        " # Mathematical formula to estimate sample size required under assumptions"
      ],
      "metadata": {
        "id": "uGDC38hpJkzN"
      }
    },
    {
      "cell_type": "markdown",
      "source": [
        "Identify the baseline conversion rate for users (control) and the minimum conversion rate that we want to detect for treated users.\n",
        "\n",
        "The sample size formula is designed to ensure the experiment has enough data to reliably detect a specified difference in conversion rates (e.g., from 30% to 35%) while controlling for statistical errors.\n",
        "\n",
        "- **Purpose**: The formula calculates the minimum number of users \\( N \\) needed to detect a difference between two proportions (control and treatment conversion rates) with a desired level of statistical power (80% chance) and significance (5% Type I error rate - false positives).\n",
        "  \n",
        "- **Formula Breakdown**:\n",
        "\n",
        "$$ N = \\left\\lceil 2 \\times \\frac{(p_1(1-p_1) + p_2(1-p_2)) \\times (Z_{\\text{power}} + Z_{\\alpha/2})^2}{(p_2 - p_1)^2} \\right\\rceil $$\n",
        "\n",
        "  - $ p_1(1-p_1) + p_2(1-p_2) $: variances of the binomial distributions for the control $ p_1 $ and treatment groups $ p_2 $.\n",
        "  - $ (p_2 - p_1)^2 $: The squared difference in conversion rates (effect size), which determines how small a difference we want to detect. Smaller differences require larger samples.\n",
        "  - $ Z_{\\text{power}} + Z_{\\alpha/2} $: A constant combined Z-scores reflecting the desired power (80%) and significance level (5%) in a two-tailed test.\n",
        "  - **Factor of 2**: Assumes equal-sized control and treatment groups, doubling the sample size for both."
      ],
      "metadata": {
        "id": "c0mr_rzXJzaY"
      }
    },
    {
      "cell_type": "code",
      "source": [
        "np.random.seed(1)\n",
        "iterations = 1000\n",
        "\n",
        "control_success = .30\n",
        "treatment_success = .35\n",
        "\n",
        "N = math.ceil(2*(control_success*(1-control_success)+treatment_success*(1-treatment_success))*\n",
        "              ((2.8/(treatment_success-control_success))**2))\n",
        "\n",
        "print(\"Required Sample Size:\", N)"
      ],
      "metadata": {
        "colab": {
          "base_uri": "https://localhost:8080/"
        },
        "id": "9lG95ZXzJilT",
        "outputId": "d66bf721-771b-40bd-e276-df3b36e42696"
      },
      "execution_count": 2,
      "outputs": [
        {
          "output_type": "stream",
          "name": "stdout",
          "text": [
            "Required Sample Size: 2745\n"
          ]
        }
      ]
    },
    {
      "cell_type": "markdown",
      "source": [
        "In the code, it calculates the variance:\n",
        "\n",
        "*   0.30 × (1 − 0.30) = 0.21 for the control group\n",
        "*   0.35×(1−0.35)=0.2275 for the treatment group\n",
        "=> 0.21+0.2275=0.4375.\n",
        "\n",
        "The effect size is 0.35−0.30=0.05.\n",
        "\n",
        "The term $ (2.8/0.05)^2 $ =3136 scales the sample size to achieve 80% power.\n",
        "\n",
        "The total sample size N is computed and rounded up, resulting in the number of users needed (split equally between control and treatment groups).\n",
        "\n",
        "This sample size ensures that, if the true difference in conversion rates is at least 5%, we have an 80% chance of detecting it with 95% confidence."
      ],
      "metadata": {
        "id": "-lud30G7No8z"
      }
    },
    {
      "cell_type": "markdown",
      "source": [
        "# Simulate Random Samples"
      ],
      "metadata": {
        "id": "2FGNBR-gPE3r"
      }
    },
    {
      "cell_type": "markdown",
      "source": [
        "To test whether the calculated sample size works, the code simulates A/B testing experiments. The function create_sample generates a dataset representing one experiment:"
      ],
      "metadata": {
        "id": "35_IqORxPMhy"
      }
    },
    {
      "cell_type": "code",
      "source": [
        "def create_sample(N,control_success,treatment_success):\n",
        "    split_n = round(N/2)\n",
        "    df = pd.DataFrame(np.random.uniform(0,1,size=(N,2)),columns=list(['treatment','randnum']))\n",
        "    df.iloc[0:split_n,0]=0\n",
        "    df.iloc[split_n:,0]=1\n",
        "    df['outcome']=0\n",
        "    df['outcome']=np.where((df['treatment']==0) & (df['randnum']<control_success),1,df['outcome'])\n",
        "    df['outcome']=np.where((df['treatment']==1) & (df['randnum']<treatment_success),1,df['outcome'])\n",
        "    return df"
      ],
      "metadata": {
        "id": "exh5_5RnOuBG"
      },
      "execution_count": 3,
      "outputs": []
    },
    {
      "cell_type": "markdown",
      "source": [
        "Split the sample: The total sample size N is divided into two equal groups: *(N/2)* for the control group and half for the treatment group.\n",
        "\n",
        "Create a dataset: A DataFrame is created with N rows and two columns:\n",
        "*   treatment: Set to 0 for the first half (control group) and 1 for the second half (treatment group).\n",
        "*   randnum: Random numbers between 0 and 1, used to simulate whether a user converts.\n",
        "\n",
        "Simulate outcomes: The outcome column is initially set to 0 (no conversion).\n",
        "*   For the control group (treatment=0), if a user’s randnum is less than 0.30 (control_success), their outcome is set to 1 (conversion). This simulates a 30% conversion rate.\n",
        "*   For the treatment group (treatment=1), if a user’s randnum is less than 0.35 (treatment_success), their outcome is set to 1, simulating a 35% conversion rate."
      ],
      "metadata": {
        "id": "IZ-_Ov86PWNV"
      }
    },
    {
      "cell_type": "markdown",
      "source": [
        "# Run Simulations and Perform Statistical Tests"
      ],
      "metadata": {
        "id": "NghGIg2_QA4S"
      }
    },
    {
      "cell_type": "code",
      "source": [
        "def get_t_list(iterations):\n",
        "    tlist = list()\n",
        "    for i in range(iterations):\n",
        "        df = create_sample(N,control_success,treatment_success)\n",
        "        formula = 'outcome~treatment'\n",
        "        model = smf.ols(formula,data=df).fit()\n",
        "        t=model.tvalues[1]\n",
        "        tlist.append(t)\n",
        "    return tlist"
      ],
      "metadata": {
        "id": "2_NVls8tPPTa"
      },
      "execution_count": null,
      "outputs": []
    },
    {
      "cell_type": "markdown",
      "source": [
        "Provide one example simulation"
      ],
      "metadata": {
        "id": "m7ZZBjB_QMFN"
      }
    },
    {
      "cell_type": "code",
      "source": [
        "df = create_sample(N,control_success,treatment_success)\n",
        "formula = 'outcome~treatment'\n",
        "model = smf.ols(formula,data=df).fit()\n",
        "print(model.summary())"
      ],
      "metadata": {
        "id": "nzqUJyaNQMck"
      },
      "execution_count": null,
      "outputs": []
    },
    {
      "cell_type": "markdown",
      "source": [
        "With appropriately chosen sample size and sufficiently large number of iterations, the share of simulations that are statistically significant should be very close to 80% by design (this is the chosen power level embedded in the 2.8 parameter)"
      ],
      "metadata": {
        "id": "6eKSHTBTQOXe"
      }
    },
    {
      "cell_type": "code",
      "source": [
        "t_list = get_t_list(iterations)\n",
        "t_stats = pd.DataFrame(t_list,columns=['tstat'])\n",
        "t_stats['sig'] = np.where(np.abs(t_stats['tstat'])>=1.96,1,0)\n",
        "print(t_stats['sig'].mean())"
      ],
      "metadata": {
        "id": "mzgy_jrbQQ0Q"
      },
      "execution_count": null,
      "outputs": []
    }
  ]
}